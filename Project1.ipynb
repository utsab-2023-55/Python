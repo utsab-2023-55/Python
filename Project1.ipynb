{
 "cells": [
  {
   "cell_type": "markdown",
   "id": "6ed4b552-d497-4285-a742-4c99652a5861",
   "metadata": {},
   "source": [
    "Studen Exam Score Tracker"
   ]
  },
  {
   "cell_type": "markdown",
   "id": "83e10617-9770-472f-9f8b-9b13748ad1f1",
   "metadata": {},
   "source": [
    "Subject1=Math\n",
    "Subject2=Data Science\n",
    "Subject3=Statistics\n",
    "Subject4=English"
   ]
  },
  {
   "cell_type": "code",
   "execution_count": 1,
   "id": "536226ed-3528-4014-80a6-d8c422376cdd",
   "metadata": {},
   "outputs": [],
   "source": [
    "student_details={\n",
    "    'Eren':[80,75,67,85],\n",
    "    'Armin':[95,80,77,83],\n",
    "    'Mikasa':[90,82,74,85]\n",
    "}"
   ]
  },
  {
   "cell_type": "code",
   "execution_count": 2,
   "id": "b1c3d114-6382-445f-8888-d176417eef82",
   "metadata": {},
   "outputs": [],
   "source": [
    "def Add_Student(count):\n",
    "    class error(Exception):\n",
    "        pass\n",
    "    class wrong_score(error):\n",
    "        pass\n",
    "    for i in range(0,count):\n",
    "        name=input('Name:')\n",
    "        numbers=[]\n",
    "        j=0\n",
    "        while(j<4):\n",
    "            subject=int(input(f'Subject{j+1}:'))\n",
    "            try:\n",
    "                if(subject<=100 and subject>=0):\n",
    "                    numbers.append(subject)\n",
    "                    j+=1\n",
    "                else:\n",
    "                    raise wrong_score\n",
    "            except:\n",
    "                print('Try to choose number between 0 to 100')\n",
    "        student_details[name]=numbers"
   ]
  },
  {
   "cell_type": "code",
   "execution_count": 3,
   "id": "8ee036b0-1363-492f-bd2d-74ff9cb2bd5c",
   "metadata": {},
   "outputs": [],
   "source": [
    "def Update_Score(name,sub,update_score):\n",
    "    class error(Exception):\n",
    "        pass\n",
    "    class wrong_sub(error):\n",
    "        pass\n",
    "    class wrong_score(error):\n",
    "        pass\n",
    "    try:\n",
    "        subject_number=0\n",
    "        if(sub.casefold()=='math' or sub.casefold()=='data science' or sub.casefold()=='statistics' or sub.casefold()=='english'):\n",
    "            if(sub.casefold()=='math'):\n",
    "                subject_number=1\n",
    "            elif(sub.casefold()=='data science'):\n",
    "                subject_number=2\n",
    "            elif(sub.casefold()=='statistics'):\n",
    "                subject_number=3\n",
    "            else:\n",
    "                subject_number=4\n",
    "        else:\n",
    "            raise wrong_sub\n",
    "    except:\n",
    "        print('Choose subject between Math,Data Science,Statistics,English')\n",
    "    try:\n",
    "        if(update_score<=100 and update_score>=0):\n",
    "            pass\n",
    "        else:\n",
    "            raise wrong_score\n",
    "    except:\n",
    "        print('Try to choose number between 0 to 100')\n",
    "    if(subject_number==1 or subject_number==2 or subject_number==3 or subject_number==4):\n",
    "        if(update_score>=0 and update_score<=100):\n",
    "            student_details[name][subject_number-1]=update_score\n",
    "        else:\n",
    "            pass\n",
    "    else:\n",
    "        pass"
   ]
  },
  {
   "cell_type": "code",
   "execution_count": 4,
   "id": "1069a99a-3ccf-4795-ba85-b9629e01f5f2",
   "metadata": {},
   "outputs": [],
   "source": [
    "def Avarage_Number(name):\n",
    "    class error(Exception):\n",
    "        pass\n",
    "    class Invalid_Student(error):\n",
    "        pass\n",
    "    valid=0    \n",
    "    for key in student_details:\n",
    "        if(name==key):\n",
    "            valid=1\n",
    "            break\n",
    "    try:\n",
    "        if(valid==1):\n",
    "            avarage=sum(student_details[name])/4\n",
    "            print(f'Avarge marks of {name} is {avarage}')\n",
    "        else:\n",
    "            raise Invalid_Student\n",
    "    except:\n",
    "        print('Try to give a valid student name')  "
   ]
  },
  {
   "cell_type": "code",
   "execution_count": 5,
   "id": "cc81a991-9c5f-4fc0-9364-3e59a83e336b",
   "metadata": {},
   "outputs": [],
   "source": [
    "def Heighest_Number(name):\n",
    "    class error(Exception):\n",
    "        pass\n",
    "    class Invalid_Student(error):\n",
    "        pass\n",
    "    valid=0    \n",
    "    for key in student_details:\n",
    "        if(name==key):\n",
    "            valid=1\n",
    "            break\n",
    "    try:\n",
    "        if(valid==1):\n",
    "            heighest_score=max(student_details[name])\n",
    "            print(f'Heighest marks of {name} is {heighest_score}')\n",
    "        else:\n",
    "            raise Invalid_Student\n",
    "    except:\n",
    "        print('Try to give a valid student name')"
   ]
  },
  {
   "cell_type": "code",
   "execution_count": 6,
   "id": "4cc704be-515f-4ba8-99cf-0cc6d8a4d937",
   "metadata": {},
   "outputs": [],
   "source": [
    "def Lowest_Number(name):\n",
    "    class error(Exception):\n",
    "        pass\n",
    "    class Invalid_Student(error):\n",
    "        pass\n",
    "    valid=0    \n",
    "    for key in student_details:\n",
    "        if(name==key):\n",
    "            valid=1\n",
    "            break\n",
    "    try:\n",
    "        if(valid==1):\n",
    "            lowest_score=min(student_details[name])\n",
    "            print(f'Lowest marks of {name} is {lowest_score}')\n",
    "        else:\n",
    "            raise Invalid_Student\n",
    "    except:\n",
    "        print('Try to give a valid student name')"
   ]
  },
  {
   "cell_type": "code",
   "execution_count": 7,
   "id": "87089e6e-1fe9-4f6c-97da-f3642ad586bd",
   "metadata": {},
   "outputs": [],
   "source": [
    "def Student_Statistics(name):\n",
    "    class error(Exception):\n",
    "        pass\n",
    "    class Invalid_Student(error):\n",
    "        pass\n",
    "    valid=0    \n",
    "    for key in student_details:\n",
    "        if(name==key):\n",
    "            valid=1\n",
    "            break\n",
    "    try:\n",
    "        if(valid==1):\n",
    "            Avarage_Number(name)\n",
    "            Heighest_Number(name)\n",
    "            Lowest_Number(name)\n",
    "        else:\n",
    "            raise Invalid_Student\n",
    "    except:\n",
    "        print('Try to give a valid student name')"
   ]
  },
  {
   "cell_type": "code",
   "execution_count": 8,
   "id": "1ff5d144-842a-4413-81a6-3dc3c92a6b26",
   "metadata": {},
   "outputs": [],
   "source": [
    "def Remove_Student(name):\n",
    "    class error(Exception):\n",
    "        pass\n",
    "    class Invalid_Student(error):\n",
    "        pass\n",
    "    valid=0    \n",
    "    for key in student_details:\n",
    "        if(name==key):\n",
    "            valid=1\n",
    "            break\n",
    "    try:\n",
    "        if(valid==1):\n",
    "            student_details.pop(name)\n",
    "        else:\n",
    "            raise Invalid_Student\n",
    "    except:\n",
    "        print('Try to give a valid student name')"
   ]
  },
  {
   "cell_type": "code",
   "execution_count": 9,
   "id": "0885f8ad-b191-475c-bf06-c2a8b340c7b7",
   "metadata": {},
   "outputs": [],
   "source": [
    "def Print(name):\n",
    "    class error(Exception):\n",
    "        pass\n",
    "    class Invalid_Student(error):\n",
    "        pass\n",
    "    valid=0    \n",
    "    for key in student_details:\n",
    "        if(name==key):\n",
    "            valid=1\n",
    "            break\n",
    "    try:\n",
    "        if(valid==1):\n",
    "            print(f'''Student Name {name} Marks:-\n",
    "            Math:{student_details[name][0]}\n",
    "            Data Science:{student_details[name][1]}\n",
    "            Statistics:{student_details[name][2]}\n",
    "            English:{student_details[name][3]}''')\n",
    "        else:\n",
    "            raise Invalid_Student\n",
    "    except:\n",
    "        print('Try to give a valid student name')"
   ]
  },
  {
   "cell_type": "code",
   "execution_count": 10,
   "id": "9970cc0c-55f4-455e-989e-289fa94f8e8b",
   "metadata": {},
   "outputs": [
    {
     "name": "stdin",
     "output_type": "stream",
     "text": [
      "Name: Levi\n",
      "Subject1: 99\n",
      "Subject2: 99\n",
      "Subject3: 99\n",
      "Subject4: 99\n",
      "Name: Erwin\n",
      "Subject1: 99\n",
      "Subject2: 98\n",
      "Subject3: 97\n",
      "Subject4: 96\n"
     ]
    },
    {
     "name": "stdout",
     "output_type": "stream",
     "text": [
      "{'Eren': [80, 75, 67, 85], 'Armin': [95, 80, 77, 83], 'Mikasa': [90, 82, 74, 85], 'Levi': [99, 99, 99, 99], 'Erwin': [99, 98, 97, 96]}\n",
      "Student Name Eren Marks:-\n",
      "            Math:80\n",
      "            Data Science:75\n",
      "            Statistics:67\n",
      "            English:85\n",
      "Avarge marks of Erwin is 97.5\n"
     ]
    }
   ],
   "source": [
    "Add_Student(2)\n",
    "print(student_details)\n",
    "Print('Eren')\n",
    "Avarage_Number('Erwin')"
   ]
  },
  {
   "cell_type": "code",
   "execution_count": 11,
   "id": "84b2854a-fc9a-4d7b-b09b-3bd55f69a123",
   "metadata": {},
   "outputs": [
    {
     "name": "stdout",
     "output_type": "stream",
     "text": [
      "Avarge marks of Erwin is 97.5\n",
      "Heighest marks of Erwin is 99\n",
      "Lowest marks of Erwin is 96\n"
     ]
    }
   ],
   "source": [
    "Student_Statistics('Erwin')"
   ]
  },
  {
   "cell_type": "code",
   "execution_count": null,
   "id": "305cf01d-8fff-4c2b-8d6f-cc4c84baae5f",
   "metadata": {},
   "outputs": [],
   "source": []
  }
 ],
 "metadata": {
  "kernelspec": {
   "display_name": "Python 3 (ipykernel)",
   "language": "python",
   "name": "python3"
  },
  "language_info": {
   "codemirror_mode": {
    "name": "ipython",
    "version": 3
   },
   "file_extension": ".py",
   "mimetype": "text/x-python",
   "name": "python",
   "nbconvert_exporter": "python",
   "pygments_lexer": "ipython3",
   "version": "3.12.4"
  }
 },
 "nbformat": 4,
 "nbformat_minor": 5
}
