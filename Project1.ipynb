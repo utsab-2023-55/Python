{
 "cells": [
  {
   "cell_type": "code",
   "execution_count": 1,
   "id": "5af3a68a-2cfb-4f94-8c3b-446adc12bd8a",
   "metadata": {},
   "outputs": [],
   "source": [
    "student_details={\n",
    "    'Eren':{'Math':85,'Data Science':80,'Statistics':84,'English':78},\n",
    "    'Armin':{'Math':95,'Data Science':86,'Statistics':84,'English':82},\n",
    "    'Mikasa':{'Math':86,'Data Science':81,'Statistics':85,'English':79}\n",
    "}"
   ]
  },
  {
   "cell_type": "code",
   "execution_count": 2,
   "id": "ac2fbe20-984f-4e8c-8d9a-3def0ee09453",
   "metadata": {},
   "outputs": [],
   "source": [
    "def Add_Student(count):\n",
    "    class error(Exception):\n",
    "        pass\n",
    "    class wrong_score(error):\n",
    "        pass\n",
    "    for i in range(0,count):\n",
    "        name=input('Name:')\n",
    "        numbers=[]\n",
    "        j=0\n",
    "        subjects=['Math','Data Science','Statistics','English']\n",
    "        while(j<4):\n",
    "            number=int(input(f'{subjects[j]}:'))\n",
    "            try:\n",
    "                if(number<=100 and number>=0):\n",
    "                    numbers.append(number)\n",
    "                    j+=1\n",
    "                else:\n",
    "                    raise wrong_score\n",
    "            except:\n",
    "                print('Try to choose number between 0 to 100')\n",
    "        subs={'Math':numbers[0],'Data Science':numbers[1],'Statistics':numbers[2],'English':numbers[3]}        \n",
    "        student_details[name]=subs"
   ]
  },
  {
   "cell_type": "code",
   "execution_count": 3,
   "id": "786a023c-6e23-4472-9704-c241594dbdc6",
   "metadata": {},
   "outputs": [
    {
     "name": "stdin",
     "output_type": "stream",
     "text": [
      "Name: Levi\n",
      "Math: 99\n",
      "Data Science: 99\n",
      "Statistics: 99\n",
      "English: 99\n"
     ]
    },
    {
     "data": {
      "text/plain": [
       "{'Eren': {'Math': 85, 'Data Science': 80, 'Statistics': 84, 'English': 78},\n",
       " 'Armin': {'Math': 95, 'Data Science': 86, 'Statistics': 84, 'English': 82},\n",
       " 'Mikasa': {'Math': 86, 'Data Science': 81, 'Statistics': 85, 'English': 79},\n",
       " 'Levi': {'Math': 99, 'Data Science': 99, 'Statistics': 99, 'English': 99}}"
      ]
     },
     "execution_count": 3,
     "metadata": {},
     "output_type": "execute_result"
    }
   ],
   "source": [
    "Add_Student(1)\n",
    "student_details"
   ]
  },
  {
   "cell_type": "code",
   "execution_count": 4,
   "id": "c15ba18d-a158-4cdf-85de-c5f42e0b406a",
   "metadata": {},
   "outputs": [],
   "source": [
    "def Update_Score(name,sub,update_score):\n",
    "    class error(Exception):\n",
    "        pass\n",
    "    class wrong_sub(error):\n",
    "        pass\n",
    "    class wrong_score(error):\n",
    "        pass\n",
    "    class Invalid_Student(error):\n",
    "        pass\n",
    "    for key in student_details:\n",
    "        if(name==key):\n",
    "            valid=1\n",
    "            break    \n",
    "    try:\n",
    "        if(valid==1):\n",
    "            try:\n",
    "                if(sub.casefold()=='math' or sub.casefold()=='data science' or sub.casefold()=='statistics' or sub.casefold()=='english'):\n",
    "                    pass\n",
    "                else:\n",
    "                    raise wrong_sub\n",
    "            except:\n",
    "                print('Choose subject between Math,Data Science,Statistics,English')\n",
    "            try:\n",
    "                if(update_score<=100 and update_score>=0):\n",
    "                    if(sub.casefold()=='math' or sub.casefold()=='data science' or sub.casefold()=='statistics' or sub.casefold()=='english'):\n",
    "                        student_details[name][sub]=update_score\n",
    "                else:\n",
    "                    raise wrong_score\n",
    "            except:\n",
    "                print('Try to choose number between 0 to 100')\n",
    "        else:\n",
    "            raise Invalid_Student\n",
    "    except:\n",
    "        print('Try to give a valid student')"
   ]
  },
  {
   "cell_type": "code",
   "execution_count": 5,
   "id": "c9e1d58a-a841-43b0-8587-b3c78e8a2a53",
   "metadata": {},
   "outputs": [
    {
     "data": {
      "text/plain": [
       "{'Eren': {'Math': 86, 'Data Science': 80, 'Statistics': 84, 'English': 78},\n",
       " 'Armin': {'Math': 95, 'Data Science': 86, 'Statistics': 84, 'English': 82},\n",
       " 'Mikasa': {'Math': 86, 'Data Science': 81, 'Statistics': 85, 'English': 79},\n",
       " 'Levi': {'Math': 99, 'Data Science': 99, 'Statistics': 99, 'English': 99}}"
      ]
     },
     "execution_count": 5,
     "metadata": {},
     "output_type": "execute_result"
    }
   ],
   "source": [
    "Update_Score('Eren','Math',86)\n",
    "student_details"
   ]
  },
  {
   "cell_type": "code",
   "execution_count": 6,
   "id": "6258833d-df56-4ab6-a86d-de3414818da1",
   "metadata": {},
   "outputs": [],
   "source": [
    "def Avarage_Number(name):\n",
    "    class error(Exception):\n",
    "        pass\n",
    "    class Invalid_Student(error):\n",
    "        pass\n",
    "    valid=0    \n",
    "    for key in student_details:\n",
    "        if(name==key):\n",
    "            valid=1\n",
    "            break\n",
    "    try:\n",
    "        if(valid==1):\n",
    "            avarage=(student_details[name]['Math']+student_details[name]['Data Science']+student_details[name]['Statistics']+student_details[name]['English'])/4\n",
    "            print(f'Avarge marks of {name} is {avarage}')\n",
    "        else:\n",
    "            raise Invalid_Student\n",
    "    except:\n",
    "        print('Try to give a valid student name')  "
   ]
  },
  {
   "cell_type": "code",
   "execution_count": 7,
   "id": "ac378be4-70fa-45fc-9fbc-b9183ec5a38a",
   "metadata": {},
   "outputs": [
    {
     "name": "stdout",
     "output_type": "stream",
     "text": [
      "Avarge marks of Eren is 82.0\n"
     ]
    }
   ],
   "source": [
    "Avarage_Number('Eren')"
   ]
  },
  {
   "cell_type": "code",
   "execution_count": 8,
   "id": "470a09ac-370e-461b-9498-5fcf53792d6b",
   "metadata": {},
   "outputs": [],
   "source": [
    "def Heighest_Number(name):\n",
    "    class error(Exception):\n",
    "        pass\n",
    "    class Invalid_Student(error):\n",
    "        pass\n",
    "    valid=0    \n",
    "    for key in student_details:\n",
    "        if(name==key):\n",
    "            valid=1\n",
    "            break\n",
    "    try:\n",
    "        if(valid==1):\n",
    "            heighest_score=student_details[name]['Math']\n",
    "            for key in student_details[name]:\n",
    "                if(student_details[name][key]>heighest_score):\n",
    "                    heighest_score=student_details[name][key]\n",
    "            for key in student_details[name]:\n",
    "                if(student_details[name][key]==heighest_score):\n",
    "                    print(f'Heighest marks of {name} is {heighest_score} and heighest scoring subject is {key}')\n",
    "        else:\n",
    "            raise Invalid_Student\n",
    "    except:\n",
    "        print('Try to give a valid student name')"
   ]
  },
  {
   "cell_type": "code",
   "execution_count": 9,
   "id": "3e700ecf-2e51-4a4f-b144-be6bd663e821",
   "metadata": {},
   "outputs": [
    {
     "name": "stdout",
     "output_type": "stream",
     "text": [
      "Heighest marks of Armin is 95 and heighest scoring subject is Math\n"
     ]
    }
   ],
   "source": [
    "Heighest_Number('Armin')"
   ]
  },
  {
   "cell_type": "code",
   "execution_count": 10,
   "id": "54f152fb-a084-4e0c-83e6-5cdc533ddd07",
   "metadata": {},
   "outputs": [],
   "source": [
    "def Lowest_Number(name):\n",
    "    class error(Exception):\n",
    "        pass\n",
    "    class Invalid_Student(error):\n",
    "        pass\n",
    "    valid=0    \n",
    "    for key in student_details:\n",
    "        if(name==key):\n",
    "            valid=1\n",
    "            break\n",
    "    try:\n",
    "        if(valid==1):\n",
    "            lowest_score=student_details[name]['Math']\n",
    "            for key in student_details[name]:\n",
    "                if(student_details[name][key]<lowest_score):\n",
    "                    lowest_score=student_details[name][key]\n",
    "            for key in student_details[name]:\n",
    "                if(student_details[name][key]==lowest_score):\n",
    "                    print(f'Lowest marks of {name} is {lowest_score} and Lowest scoring subject is {key}')\n",
    "        else:\n",
    "            raise Invalid_Student\n",
    "    except:\n",
    "        print('Try to give a valid student name')"
   ]
  },
  {
   "cell_type": "code",
   "execution_count": 11,
   "id": "178946cc-9ae5-49ac-9cbe-a900879e7ec4",
   "metadata": {},
   "outputs": [
    {
     "name": "stdout",
     "output_type": "stream",
     "text": [
      "Lowest marks of Eren is 78 and Lowest scoring subject is English\n"
     ]
    }
   ],
   "source": [
    "Lowest_Number('Eren')"
   ]
  },
  {
   "cell_type": "code",
   "execution_count": 12,
   "id": "69341c39-4073-406d-a312-6d92f9fd9342",
   "metadata": {},
   "outputs": [],
   "source": [
    "def Student_Statistics(name):\n",
    "    class error(Exception):\n",
    "        pass\n",
    "    class Invalid_Student(error):\n",
    "        pass\n",
    "    valid=0    \n",
    "    for key in student_details:\n",
    "        if(name==key):\n",
    "            valid=1\n",
    "            break\n",
    "    try:\n",
    "        if(valid==1):\n",
    "            Avarage_Number(name)\n",
    "            Heighest_Number(name)\n",
    "            Lowest_Number(name)\n",
    "        else:\n",
    "            raise Invalid_Student\n",
    "    except:\n",
    "        print('Try to give a valid student name')"
   ]
  },
  {
   "cell_type": "code",
   "execution_count": 13,
   "id": "ec72c920-aa1e-4e66-a49c-ed1675046832",
   "metadata": {},
   "outputs": [
    {
     "name": "stdout",
     "output_type": "stream",
     "text": [
      "Avarge marks of Armin is 86.75\n",
      "Heighest marks of Armin is 95 and heighest scoring subject is Math\n",
      "Lowest marks of Armin is 82 and Lowest scoring subject is English\n"
     ]
    }
   ],
   "source": [
    "Student_Statistics('Armin')"
   ]
  },
  {
   "cell_type": "code",
   "execution_count": 14,
   "id": "32b6d3e5-e4f4-4282-985f-6e4383eb4e70",
   "metadata": {},
   "outputs": [],
   "source": [
    "def Remove_Student(name):\n",
    "    class error(Exception):\n",
    "        pass\n",
    "    class Invalid_Student(error):\n",
    "        pass\n",
    "    valid=0    \n",
    "    for key in student_details:\n",
    "        if(name==key):\n",
    "            valid=1\n",
    "            break\n",
    "    try:\n",
    "        if(valid==1):\n",
    "            student_details.pop(name)\n",
    "        else:\n",
    "            raise Invalid_Student\n",
    "    except:\n",
    "        print('Try to give a valid student name')"
   ]
  },
  {
   "cell_type": "code",
   "execution_count": 15,
   "id": "a3d91397-b234-4ba6-b18b-0e620af41015",
   "metadata": {},
   "outputs": [
    {
     "data": {
      "text/plain": [
       "{'Armin': {'Math': 95, 'Data Science': 86, 'Statistics': 84, 'English': 82},\n",
       " 'Mikasa': {'Math': 86, 'Data Science': 81, 'Statistics': 85, 'English': 79},\n",
       " 'Levi': {'Math': 99, 'Data Science': 99, 'Statistics': 99, 'English': 99}}"
      ]
     },
     "execution_count": 15,
     "metadata": {},
     "output_type": "execute_result"
    }
   ],
   "source": [
    "Remove_Student('Eren')\n",
    "student_details"
   ]
  },
  {
   "cell_type": "code",
   "execution_count": 16,
   "id": "7593edc4-b7fe-4486-a76f-7d430505fc80",
   "metadata": {},
   "outputs": [],
   "source": [
    "def Print(name):\n",
    "    class error(Exception):\n",
    "        pass\n",
    "    class Invalid_Student(error):\n",
    "        pass\n",
    "    valid=0    \n",
    "    for key in student_details:\n",
    "        if(name==key):\n",
    "            valid=1\n",
    "            break\n",
    "    try:\n",
    "        if(valid==1):\n",
    "            print(f'''Student Name {name} Marks:-\n",
    "            Math:{student_details[name]['Math']}\n",
    "            Data Science:{student_details[name]['Data Science']}\n",
    "            Statistics:{student_details[name]['Statistics']}\n",
    "            English:{student_details[name]['English']}''')\n",
    "        else:\n",
    "            raise Invalid_Student\n",
    "    except:\n",
    "        print('Try to give a valid student name')"
   ]
  },
  {
   "cell_type": "code",
   "execution_count": 17,
   "id": "a5ca35b2-2fd3-41cf-a500-9de80c02b8ca",
   "metadata": {},
   "outputs": [
    {
     "name": "stdout",
     "output_type": "stream",
     "text": [
      "Student Name Levi Marks:-\n",
      "            Math:99\n",
      "            Data Science:99\n",
      "            Statistics:99\n",
      "            English:99\n"
     ]
    }
   ],
   "source": [
    "Print('Levi')"
   ]
  },
  {
   "cell_type": "code",
   "execution_count": null,
   "id": "5170a387-31a6-4a0e-9afa-eefdd98f7ea8",
   "metadata": {},
   "outputs": [],
   "source": []
  }
 ],
 "metadata": {
  "kernelspec": {
   "display_name": "Python 3 (ipykernel)",
   "language": "python",
   "name": "python3"
  },
  "language_info": {
   "codemirror_mode": {
    "name": "ipython",
    "version": 3
   },
   "file_extension": ".py",
   "mimetype": "text/x-python",
   "name": "python",
   "nbconvert_exporter": "python",
   "pygments_lexer": "ipython3",
   "version": "3.12.4"
  }
 },
 "nbformat": 4,
 "nbformat_minor": 5
}
