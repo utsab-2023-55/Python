{
 "cells": [
  {
   "cell_type": "code",
   "execution_count": 1,
   "id": "a7ad1d8c-0ff7-47f7-8573-7a31cd4f2d8b",
   "metadata": {},
   "outputs": [],
   "source": [
    "items={\n",
    "    'Rice':{'Price':45,'Quantity':100.0,'Unit':'Kg'},\n",
    "    'Dal':{'Price':35,'Quantity':50.0,'Unit':'Kg'},\n",
    "    'Aata':{'Price':40,'Quantity':100.0,'Unit':'Kg'},\n",
    "    'Mustard Oil':{'Price':65,'Quantity':30.0,'Unit':'Liter'},\n",
    "    'Sunflower Oil':{'Price':60,'Quantity':30.0,'Unit':'Liter'},\n",
    "    'Cold Drinks':{'Price':85,'Quantity':60,'Unit':'Bottle'}\n",
    "}"
   ]
  },
  {
   "cell_type": "code",
   "execution_count": 2,
   "id": "03eea259-5b90-40a8-b018-f0071bf6d7c9",
   "metadata": {},
   "outputs": [
    {
     "data": {
      "text/plain": [
       "{'Rice': {'Price': 45, 'Quantity': 100.0, 'Unit': 'Kg'},\n",
       " 'Dal': {'Price': 35, 'Quantity': 50.0, 'Unit': 'Kg'},\n",
       " 'Aata': {'Price': 40, 'Quantity': 100.0, 'Unit': 'Kg'},\n",
       " 'Mustard Oil': {'Price': 65, 'Quantity': 30.0, 'Unit': 'Liter'},\n",
       " 'Sunflower Oil': {'Price': 60, 'Quantity': 30.0, 'Unit': 'Liter'},\n",
       " 'Cold Drinks': {'Price': 85, 'Quantity': 60, 'Unit': 'Bottle'}}"
      ]
     },
     "execution_count": 2,
     "metadata": {},
     "output_type": "execute_result"
    }
   ],
   "source": [
    "items"
   ]
  },
  {
   "cell_type": "code",
   "execution_count": 3,
   "id": "1f409ee0-c2ee-4453-b952-ebb685a81ffb",
   "metadata": {},
   "outputs": [],
   "source": [
    "customer_cart={}"
   ]
  },
  {
   "cell_type": "code",
   "execution_count": 4,
   "id": "dc7944ed-12b8-44b5-adfb-b057d3acc39f",
   "metadata": {},
   "outputs": [],
   "source": [
    "def add_cart(choosing_item=None):\n",
    "    if choosing_item == None:\n",
    "        choosing_item=input('Choosing Item=').title()\n",
    "    else:\n",
    "        pass\n",
    "    if choosing_item=='Exit':\n",
    "        return      \n",
    "    else:\n",
    "        if choosing_item in items:\n",
    "            try:\n",
    "                if choosing_item != 'Cold Drinks':\n",
    "                    item_quantity=float(input('Choosing Item Quantity='))\n",
    "                    item_quantity=round(item_quantity,3)\n",
    "                else:\n",
    "                    item_quantity=int(input('Choosing Item Quantity='))\n",
    "            except ValueError:\n",
    "                print('Choose the quantity of selecting item')\n",
    "                add_cart(choosing_item)\n",
    "            else:\n",
    "                if(item_quantity<=items[choosing_item]['Quantity']):\n",
    "                    if choosing_item in customer_cart:\n",
    "                        customer_cart[choosing_item]=customer_cart[choosing_item]+item_quantity\n",
    "                        items[choosing_item]['Quantity']=items[choosing_item]['Quantity']-item_quantity\n",
    "                    else:\n",
    "                        customer_cart[choosing_item]=item_quantity\n",
    "                        items[choosing_item]['Quantity']=items[choosing_item]['Quantity']-item_quantity\n",
    "                    add_cart()    \n",
    "                else:\n",
    "                    print(f'choose quantity between 0 to {items[choosing_item]['Quantity']}')\n",
    "                    add_cart(choosing_item) \n",
    "        else:\n",
    "            print('Available Item:')\n",
    "            for item in items:\n",
    "                print(f'\\t{item}')\n",
    "            add_cart()    "
   ]
  },
  {
   "cell_type": "code",
   "execution_count": 5,
   "id": "420c66b6-2852-4669-a94e-125deaee7482",
   "metadata": {},
   "outputs": [
    {
     "name": "stdin",
     "output_type": "stream",
     "text": [
      "Choosing Item= r\n"
     ]
    },
    {
     "name": "stdout",
     "output_type": "stream",
     "text": [
      "Available Item:\n",
      "\tRice\n",
      "\tDal\n",
      "\tAata\n",
      "\tMustard Oil\n",
      "\tSunflower Oil\n",
      "\tCold Drinks\n"
     ]
    },
    {
     "name": "stdin",
     "output_type": "stream",
     "text": [
      "Choosing Item= rice\n",
      "Choosing Item Quantity= 30\n",
      "Choosing Item= dal\n",
      "Choosing Item Quantity= 0.6\n",
      "Choosing Item= mustard oil\n",
      "Choosing Item Quantity= 3\n",
      "Choosing Item= cold drinks\n",
      "Choosing Item Quantity= 2.3\n"
     ]
    },
    {
     "name": "stdout",
     "output_type": "stream",
     "text": [
      "Choose the quantity of selecting item\n"
     ]
    },
    {
     "name": "stdin",
     "output_type": "stream",
     "text": [
      "Choosing Item Quantity= exit\n"
     ]
    },
    {
     "name": "stdout",
     "output_type": "stream",
     "text": [
      "Choose the quantity of selecting item\n"
     ]
    },
    {
     "name": "stdin",
     "output_type": "stream",
     "text": [
      "Choosing Item Quantity= Exit\n"
     ]
    },
    {
     "name": "stdout",
     "output_type": "stream",
     "text": [
      "Choose the quantity of selecting item\n"
     ]
    },
    {
     "name": "stdin",
     "output_type": "stream",
     "text": [
      "Choosing Item Quantity= 2\n",
      "Choosing Item= exit\n"
     ]
    }
   ],
   "source": [
    "add_cart()"
   ]
  },
  {
   "cell_type": "code",
   "execution_count": 6,
   "id": "e4348c39-c09c-48e2-adec-7fdb8f879fee",
   "metadata": {},
   "outputs": [
    {
     "name": "stdout",
     "output_type": "stream",
     "text": [
      "{'Rice': 30.0, 'Dal': 0.6, 'Mustard Oil': 3.0, 'Cold Drinks': 2}\n"
     ]
    }
   ],
   "source": [
    "print(customer_cart)"
   ]
  },
  {
   "cell_type": "code",
   "execution_count": 7,
   "id": "621c8887-6920-4246-959c-012e8ee289cb",
   "metadata": {},
   "outputs": [
    {
     "data": {
      "text/plain": [
       "{'Rice': {'Price': 45, 'Quantity': 70.0, 'Unit': 'Kg'},\n",
       " 'Dal': {'Price': 35, 'Quantity': 49.4, 'Unit': 'Kg'},\n",
       " 'Aata': {'Price': 40, 'Quantity': 100.0, 'Unit': 'Kg'},\n",
       " 'Mustard Oil': {'Price': 65, 'Quantity': 27.0, 'Unit': 'Liter'},\n",
       " 'Sunflower Oil': {'Price': 60, 'Quantity': 30.0, 'Unit': 'Liter'},\n",
       " 'Cold Drinks': {'Price': 85, 'Quantity': 58, 'Unit': 'Bottle'}}"
      ]
     },
     "execution_count": 7,
     "metadata": {},
     "output_type": "execute_result"
    }
   ],
   "source": [
    "items"
   ]
  },
  {
   "cell_type": "code",
   "execution_count": 8,
   "id": "70e6eb66-3d52-42df-b26d-bb4b57d80ab1",
   "metadata": {},
   "outputs": [],
   "source": [
    "def remove_from_cart(choosing_item=None):\n",
    "    if choosing_item == None:\n",
    "        choosing_item=input('Choose Item=').title()\n",
    "    else:\n",
    "        pass\n",
    "    if choosing_item==\"Exit\":\n",
    "        return\n",
    "    else:\n",
    "        if choosing_item in customer_cart:\n",
    "            remove_item_quantity=customer_cart[choosing_item]\n",
    "            customer_cart.pop(choosing_item)\n",
    "            items[choosing_item]['Quantity']=items[choosing_item]['Quantity']+remove_item_quantity\n",
    "            remove_from_cart()\n",
    "        else:\n",
    "            print(\"You can't add this item in your cart\")\n",
    "            remove_from_cart()"
   ]
  },
  {
   "cell_type": "code",
   "execution_count": 9,
   "id": "a1a7da13-807a-4faa-a178-757141b85ca0",
   "metadata": {},
   "outputs": [
    {
     "name": "stdin",
     "output_type": "stream",
     "text": [
      "Choose Item= rice\n",
      "Choose Item= exit\n"
     ]
    }
   ],
   "source": [
    "remove_from_cart()"
   ]
  },
  {
   "cell_type": "code",
   "execution_count": 10,
   "id": "9bbe913d-2a88-45d2-ae9e-27aa677b84d8",
   "metadata": {},
   "outputs": [
    {
     "data": {
      "text/plain": [
       "{'Dal': 0.6, 'Mustard Oil': 3.0, 'Cold Drinks': 2}"
      ]
     },
     "execution_count": 10,
     "metadata": {},
     "output_type": "execute_result"
    }
   ],
   "source": [
    "customer_cart"
   ]
  },
  {
   "cell_type": "code",
   "execution_count": 11,
   "id": "63481bb1-1f88-44a6-917c-dcc7ba93536a",
   "metadata": {},
   "outputs": [
    {
     "data": {
      "text/plain": [
       "{'Rice': {'Price': 45, 'Quantity': 100.0, 'Unit': 'Kg'},\n",
       " 'Dal': {'Price': 35, 'Quantity': 49.4, 'Unit': 'Kg'},\n",
       " 'Aata': {'Price': 40, 'Quantity': 100.0, 'Unit': 'Kg'},\n",
       " 'Mustard Oil': {'Price': 65, 'Quantity': 27.0, 'Unit': 'Liter'},\n",
       " 'Sunflower Oil': {'Price': 60, 'Quantity': 30.0, 'Unit': 'Liter'},\n",
       " 'Cold Drinks': {'Price': 85, 'Quantity': 58, 'Unit': 'Bottle'}}"
      ]
     },
     "execution_count": 11,
     "metadata": {},
     "output_type": "execute_result"
    }
   ],
   "source": [
    "items"
   ]
  },
  {
   "cell_type": "code",
   "execution_count": 12,
   "id": "9a12fd74-3d52-4e5c-bdaa-a583470ec55c",
   "metadata": {},
   "outputs": [],
   "source": [
    "def update_cart_item(choosing_item=None):\n",
    "    if choosing_item == None:\n",
    "        choosing_item=input('Choose Item=').title()\n",
    "    else:\n",
    "        pass\n",
    "    if choosing_item == 'Exit':\n",
    "        return\n",
    "    else:\n",
    "        if choosing_item in customer_cart:\n",
    "            try:\n",
    "                if choosing_item != 'Cold Drinks':\n",
    "                    item_quantity=float(input('Choosing Item Quantity='))\n",
    "                    item_quantity=round(item_quantity,3)\n",
    "                else:\n",
    "                    item_quantity=int(input('Choosing Item Quantity='))\n",
    "            except ValueError:\n",
    "                print('Choose the quantity of selecting item')\n",
    "                add_cart(choosing_item)\n",
    "            else:\n",
    "                if item_quantity == customer_cart[choosing_item]:\n",
    "                    print('You already select same quantity')\n",
    "                    update_cart_item()\n",
    "                else:\n",
    "                    if item_quantity <= customer_cart[choosing_item]+items[choosing_item]['Quantity']:\n",
    "                        items[choosing_item]['Quantity']=items[choosing_item]['Quantity']+customer_cart[choosing_item]-item_quantity\n",
    "                        customer_cart[choosing_item]=item_quantity\n",
    "                        update_cart_item()\n",
    "                    else:\n",
    "                        print(f'choose quantity between 0 to {items[choosing_item]['Quantity']+customer_cart[choosing_item]}')\n",
    "                        update_cart_item(choosing_item)\n",
    "        else:\n",
    "            print(\"You can't add this item in your cart\")\n",
    "            update_cart_item()"
   ]
  },
  {
   "cell_type": "code",
   "execution_count": 13,
   "id": "3dee3975-775d-49fd-bb11-41cf25f1a1ab",
   "metadata": {},
   "outputs": [
    {
     "name": "stdin",
     "output_type": "stream",
     "text": [
      "Choose Item= dal\n",
      "Choosing Item Quantity= 0.5\n",
      "Choose Item= exit\n"
     ]
    }
   ],
   "source": [
    "update_cart_item()"
   ]
  },
  {
   "cell_type": "code",
   "execution_count": 14,
   "id": "99d6493b-4930-4bbe-8a07-d2ed75257f24",
   "metadata": {},
   "outputs": [
    {
     "data": {
      "text/plain": [
       "{'Dal': 0.5, 'Mustard Oil': 3.0, 'Cold Drinks': 2}"
      ]
     },
     "execution_count": 14,
     "metadata": {},
     "output_type": "execute_result"
    }
   ],
   "source": [
    "customer_cart"
   ]
  },
  {
   "cell_type": "code",
   "execution_count": 15,
   "id": "f96f7e38-8514-4863-958b-d36766c9193e",
   "metadata": {},
   "outputs": [
    {
     "data": {
      "text/plain": [
       "{'Rice': {'Price': 45, 'Quantity': 100.0, 'Unit': 'Kg'},\n",
       " 'Dal': {'Price': 35, 'Quantity': 49.5, 'Unit': 'Kg'},\n",
       " 'Aata': {'Price': 40, 'Quantity': 100.0, 'Unit': 'Kg'},\n",
       " 'Mustard Oil': {'Price': 65, 'Quantity': 27.0, 'Unit': 'Liter'},\n",
       " 'Sunflower Oil': {'Price': 60, 'Quantity': 30.0, 'Unit': 'Liter'},\n",
       " 'Cold Drinks': {'Price': 85, 'Quantity': 58, 'Unit': 'Bottle'}}"
      ]
     },
     "execution_count": 15,
     "metadata": {},
     "output_type": "execute_result"
    }
   ],
   "source": [
    "items"
   ]
  },
  {
   "cell_type": "code",
   "execution_count": 16,
   "id": "6242ea37-6873-4f1d-8dff-b9b367d56d03",
   "metadata": {},
   "outputs": [],
   "source": [
    "def item_cost():\n",
    "    for item in customer_cart:\n",
    "        print(f'Total Cost of {item}={items[item]['Price']*customer_cart[item]}')"
   ]
  },
  {
   "cell_type": "code",
   "execution_count": 17,
   "id": "1dff0c93-4ca9-482b-a655-80772022938b",
   "metadata": {},
   "outputs": [
    {
     "name": "stdout",
     "output_type": "stream",
     "text": [
      "Total Cost of Dal=17.5\n",
      "Total Cost of Mustard Oil=195.0\n",
      "Total Cost of Cold Drinks=170\n"
     ]
    }
   ],
   "source": [
    "item_cost()"
   ]
  },
  {
   "cell_type": "code",
   "execution_count": 18,
   "id": "b8dd420f-b5f0-4e4b-8d9c-37c413d34ebb",
   "metadata": {},
   "outputs": [],
   "source": [
    "def total_cost():\n",
    "    selecting_item=','.join(customer_cart.keys())\n",
    "    print(selecting_item)\n",
    "    print(\"\")\n",
    "    for item in customer_cart:\n",
    "        print(f'{item}: Price={items[item]['Price']}/{items[item]['Unit']} Quantity={customer_cart[item]} Total Cost of {item}={items[item]['Price']*customer_cart[item]}')\n",
    "    overall_total=0\n",
    "    for item in customer_cart:\n",
    "        overall_total=overall_total+items[item]['Price']*customer_cart[item]\n",
    "    print('-'*100)\n",
    "    print(f'Total cost of all items={overall_total}')"
   ]
  },
  {
   "cell_type": "code",
   "execution_count": 19,
   "id": "da8d0f07-19da-4684-ae2f-bd1f85b3660d",
   "metadata": {},
   "outputs": [
    {
     "name": "stdout",
     "output_type": "stream",
     "text": [
      "Dal,Mustard Oil,Cold Drinks\n",
      "\n",
      "Dal: Price=35/Kg Quantity=0.5 Total Cost of Dal=17.5\n",
      "Mustard Oil: Price=65/Liter Quantity=3.0 Total Cost of Mustard Oil=195.0\n",
      "Cold Drinks: Price=85/Bottle Quantity=2 Total Cost of Cold Drinks=170\n",
      "----------------------------------------------------------------------------------------------------\n",
      "Total cost of all items=382.5\n"
     ]
    }
   ],
   "source": [
    "total_cost()"
   ]
  },
  {
   "cell_type": "code",
   "execution_count": null,
   "id": "4337f027-e4ae-438d-b332-a904778975c8",
   "metadata": {},
   "outputs": [],
   "source": []
  }
 ],
 "metadata": {
  "kernelspec": {
   "display_name": "Python 3 (ipykernel)",
   "language": "python",
   "name": "python3"
  },
  "language_info": {
   "codemirror_mode": {
    "name": "ipython",
    "version": 3
   },
   "file_extension": ".py",
   "mimetype": "text/x-python",
   "name": "python",
   "nbconvert_exporter": "python",
   "pygments_lexer": "ipython3",
   "version": "3.12.4"
  }
 },
 "nbformat": 4,
 "nbformat_minor": 5
}
