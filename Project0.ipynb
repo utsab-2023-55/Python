{
 "cells": [
  {
   "cell_type": "markdown",
   "id": "192ab9aa-5d4b-4c1b-9bb0-012ab72c5d77",
   "metadata": {},
   "source": [
    "Making a Stone,Paper,Scissor Game"
   ]
  },
  {
   "cell_type": "markdown",
   "id": "c136cdb2-aa4f-41ac-9b8f-4daa90c3af2b",
   "metadata": {},
   "source": [
    "Stone=1\n",
    "Paper=0\n",
    "Scissor=-1"
   ]
  },
  {
   "cell_type": "code",
   "execution_count": 1,
   "id": "b71bb08b-96ab-4ea7-ac55-9ffb7961348b",
   "metadata": {},
   "outputs": [
    {
     "name": "stdin",
     "output_type": "stream",
     "text": [
      "Match Point= 3\n",
      "Your Choice: stone\n",
      "Your Choice: Stone\n",
      "Your Choice: sTone\n",
      "Your Choice: paper\n",
      "Your Choice: scissor\n"
     ]
    },
    {
     "name": "stdout",
     "output_type": "stream",
     "text": [
      "User Point= 1\n",
      "Computer Point= 3\n",
      "Lost,better luck next time\n"
     ]
    }
   ],
   "source": [
    "import random\n",
    "User_Point=0\n",
    "Computer_Point=0\n",
    "Match_Point=int(input('Match Point='))\n",
    "while(User_Point!=Match_Point and Computer_Point!=Match_Point):\n",
    "    Computer_Choice=random.randint(-1,1)\n",
    "    class error(Exception):\n",
    "        pass\n",
    "    class wrong_input(error):\n",
    "        pass\n",
    "    try:\n",
    "        User_choice=input('Your Choice:')\n",
    "        if(User_choice.casefold()=='stone' or User_choice.casefold()=='paper' or User_choice.casefold()=='scissor'):\n",
    "            if(User_choice.casefold()=='stone'):\n",
    "                if(Computer_Choice==1):\n",
    "                    pass\n",
    "                elif(Computer_Choice==0):\n",
    "                    Computer_Point+=1\n",
    "                else:\n",
    "                    User_Point+=1\n",
    "            elif(User_choice.casefold()=='paper'):\n",
    "                if(Computer_Choice==0):\n",
    "                    pass\n",
    "                elif(Computer_Choice==-1):\n",
    "                    Computer_Point+=1\n",
    "                else:\n",
    "                    User_Point+=1\n",
    "            elif(User_choice.casefold()=='scissor'):\n",
    "                if(Computer_Choice==-1):\n",
    "                    pass\n",
    "                elif(Computer_Choice==1):\n",
    "                    Computer_Point+=1\n",
    "                else:\n",
    "                    User_Point+=1\n",
    "        else:\n",
    "            raise wrong_input\n",
    "    except wrong_input:\n",
    "        print('Give input between Stone,Paper,Scissor.This is not case sensitive')\n",
    "print('User Point=',User_Point)\n",
    "print('Computer Point=',Computer_Point)\n",
    "if(Computer_Point>User_Point):\n",
    "    print('Lost,better luck next time')\n",
    "else:\n",
    "    print('Win,Congratullation')\n",
    "                     "
   ]
  },
  {
   "cell_type": "code",
   "execution_count": null,
   "id": "8ca13d54-0b7b-4baf-9500-1bfc72457a2d",
   "metadata": {},
   "outputs": [],
   "source": []
  }
 ],
 "metadata": {
  "kernelspec": {
   "display_name": "Python 3 (ipykernel)",
   "language": "python",
   "name": "python3"
  },
  "language_info": {
   "codemirror_mode": {
    "name": "ipython",
    "version": 3
   },
   "file_extension": ".py",
   "mimetype": "text/x-python",
   "name": "python",
   "nbconvert_exporter": "python",
   "pygments_lexer": "ipython3",
   "version": "3.12.4"
  }
 },
 "nbformat": 4,
 "nbformat_minor": 5
}
