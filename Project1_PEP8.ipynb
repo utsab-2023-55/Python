{
 "cells": [
  {
   "cell_type": "code",
   "execution_count": 1,
   "id": "4050a398-955e-4763-a07b-b40b855fe2a0",
   "metadata": {},
   "outputs": [],
   "source": [
    "student_details = {\n",
    "    'Eren': {'Math': 85, 'Data Science': 80, 'Statistics': 84, 'English': 80},\n",
    "    'Armin': {'Math': 95, 'Data Science': 86, 'Statistics': 84, 'English': 82},\n",
    "    'Mikasa': {'Math': 86, 'Data Science': 81, 'Statistics': 85, 'English': 79}\n",
    "}"
   ]
  },
  {
   "cell_type": "code",
   "execution_count": 2,
   "id": "fb9a8cff-2a47-41c6-83f1-c8abc4f5479a",
   "metadata": {},
   "outputs": [],
   "source": [
    "def add_student():\n",
    "    try:\n",
    "        count = int(input('Number of students you want to add: '))\n",
    "    except ValueError:\n",
    "        print('Please enter a valid integer.')\n",
    "        count = int(input('Number of students you want to add: '))\n",
    "    for _ in range(count):\n",
    "        name = input('Name: ')\n",
    "        numbers = []\n",
    "        subjects = ['Math', 'Data Science', 'Statistics', 'English']\n",
    "        for subject in subjects:\n",
    "            while True:\n",
    "                try:\n",
    "                    number = int(input(f'{subject}: '))\n",
    "                    if 0 <= number <= 100:\n",
    "                        numbers.append(number)\n",
    "                        break\n",
    "                    else:\n",
    "                        print('Number must be between 0 and 100.')\n",
    "                except ValueError:\n",
    "                    print('Please enter a valid number.')\n",
    "        student_details[name] = dict(zip(subjects, numbers))"
   ]
  },
  {
   "cell_type": "code",
   "execution_count": 4,
   "id": "efb1cf9f-bd73-4137-9eda-edb47d806bea",
   "metadata": {},
   "outputs": [],
   "source": [
    "def update_number(name=None, sub=None, update_score=None):\n",
    "    if name is None:\n",
    "        name = input('Name: ')\n",
    "    \n",
    "    valid = name in student_details\n",
    "    if valid:\n",
    "        if sub is None:\n",
    "            sub = input('Subject: ')\n",
    "        \n",
    "        if sub.casefold() in ['math', 'data science', 'statistics', 'english']:\n",
    "            try:\n",
    "                update_score = int(input('Updated Score= '))\n",
    "            except ValueError:\n",
    "                print('Please enter an integer between 0 and 100.')\n",
    "                update_score = int(input('Updated Score= '))\n",
    "            \n",
    "            if 0 <= update_score <= 100:\n",
    "                student_details[name][sub.title()] = update_score\n",
    "            else:\n",
    "                print('Please enter a number between 0 and 100.')\n",
    "                update_number(name, sub)\n",
    "        else:\n",
    "            print('Choose a subject from Math, Data Science, Statistics, or English.')\n",
    "            update_number(name)\n",
    "    else:\n",
    "        print('Please provide a valid student.')\n",
    "        update_number()\n",
    "\n",
    "    return"
   ]
  },
  {
   "cell_type": "code",
   "execution_count": 5,
   "id": "dbbf5f74-e950-4b7c-b9f0-afb09a972022",
   "metadata": {},
   "outputs": [],
   "source": [
    "def print_student_details():\n",
    "    name = input('Name: ')\n",
    "    if name in student_details:\n",
    "        print(f'''Student Name: {name} Marks:-\n",
    "        Math: {student_details[name]['Math']}\n",
    "        Data Science: {student_details[name]['Data Science']}\n",
    "        Statistics: {student_details[name]['Statistics']}\n",
    "        English: {student_details[name]['English']}''')\n",
    "    else:\n",
    "        print('Invalid student name. Please try again.')\n",
    "        print_student_details()"
   ]
  },
  {
   "cell_type": "code",
   "execution_count": 6,
   "id": "fd0fd9d8-4466-4a84-a4a4-bbc73d40f597",
   "metadata": {},
   "outputs": [],
   "source": [
    "def average_number(name=None):\n",
    "    if name is None:\n",
    "        name = input('Name:')\n",
    "    \n",
    "    valid = name in student_details\n",
    "    if valid:\n",
    "        average = (\n",
    "            student_details[name]['Math'] +\n",
    "            student_details[name]['Data Science'] +\n",
    "            student_details[name]['Statistics'] +\n",
    "            student_details[name]['English']\n",
    "        ) / 4\n",
    "        \n",
    "        print(f'Average marks of {name} is {average}')\n",
    "    else:\n",
    "        print('Please provide a valid student name')\n",
    "        average_number()"
   ]
  },
  {
   "cell_type": "code",
   "execution_count": 7,
   "id": "fc2791d1-1e4a-409d-ab50-4307f31b2c7a",
   "metadata": {},
   "outputs": [],
   "source": [
    "def highest_number(name=None):\n",
    "    if name is None:\n",
    "        name = input('Name:')\n",
    "    \n",
    "    valid = name in student_details\n",
    "    if valid:\n",
    "        highest_score = student_details[name]['Math']\n",
    "        \n",
    "        # Find the highest score\n",
    "        for key in student_details[name]:\n",
    "            if student_details[name][key] > highest_score:\n",
    "                highest_score = student_details[name][key]\n",
    "        \n",
    "        # Find the subject(s) with the highest score\n",
    "        for key in student_details[name]:\n",
    "            if student_details[name][key] == highest_score:\n",
    "                print(f'Highest marks of {name} is {highest_score} and the highest scoring subject is {key}')\n",
    "    else:\n",
    "        print('Please provide a valid student name')\n",
    "        highest_number()"
   ]
  },
  {
   "cell_type": "code",
   "execution_count": 8,
   "id": "74212cdd-2a24-4e3c-b101-de2994995bdb",
   "metadata": {},
   "outputs": [],
   "source": [
    "def lowest_number(name=None):\n",
    "    if name is None:\n",
    "        name = input('Name:')\n",
    "    \n",
    "    valid = name in student_details\n",
    "    if valid:\n",
    "        lowest_score = student_details[name]['Math']\n",
    "        \n",
    "        # Find the lowest score\n",
    "        for key in student_details[name]:\n",
    "            if student_details[name][key] < lowest_score:\n",
    "                lowest_score = student_details[name][key]\n",
    "        \n",
    "        # Find the subject(s) with the lowest score\n",
    "        for key in student_details[name]:\n",
    "            if student_details[name][key] == lowest_score:\n",
    "                print(f'Lowest marks of {name} is {lowest_score} and the lowest scoring subject is {key}')\n",
    "    else:\n",
    "        print('Please provide a valid student name')\n",
    "        lowest_number()"
   ]
  },
  {
   "cell_type": "code",
   "execution_count": 9,
   "id": "66d029a7-0333-435c-8899-6897e23806b5",
   "metadata": {},
   "outputs": [],
   "source": [
    "def student_statistics():\n",
    "    name = input('Name:')\n",
    "    \n",
    "    valid = name in student_details\n",
    "    if valid:\n",
    "        average_number(name)\n",
    "        highest_number(name)\n",
    "        lowest_number(name)\n",
    "    else:\n",
    "        print('Please provide a valid student name')\n",
    "        student_statistics()"
   ]
  },
  {
   "cell_type": "code",
   "execution_count": 10,
   "id": "bc2ea5f3-0bec-45bf-af72-f155486732ae",
   "metadata": {},
   "outputs": [],
   "source": [
    "def remove_student():\n",
    "    name = input('Name:')\n",
    "    \n",
    "    valid = name in student_details\n",
    "    if valid:\n",
    "        student_details.pop(name)\n",
    "    else:\n",
    "        print('Please provide a valid student name')\n",
    "        remove_student()"
   ]
  },
  {
   "cell_type": "code",
   "execution_count": 11,
   "id": "9f1b13cb-f454-4247-9a9e-bae4a8b0e9a5",
   "metadata": {},
   "outputs": [
    {
     "name": "stdin",
     "output_type": "stream",
     "text": [
      "Number of students you want to add:  e\n"
     ]
    },
    {
     "name": "stdout",
     "output_type": "stream",
     "text": [
      "Please enter a valid integer.\n"
     ]
    },
    {
     "name": "stdin",
     "output_type": "stream",
     "text": [
      "Number of students you want to add:  1\n",
      "Name:  Levi\n",
      "Math:  t\n"
     ]
    },
    {
     "name": "stdout",
     "output_type": "stream",
     "text": [
      "Please enter a valid number.\n"
     ]
    },
    {
     "name": "stdin",
     "output_type": "stream",
     "text": [
      "Math:  101\n"
     ]
    },
    {
     "name": "stdout",
     "output_type": "stream",
     "text": [
      "Number must be between 0 and 100.\n"
     ]
    },
    {
     "name": "stdin",
     "output_type": "stream",
     "text": [
      "Math:  99\n",
      "Data Science:  99\n",
      "Statistics:  99\n",
      "English:  99\n"
     ]
    },
    {
     "data": {
      "text/plain": [
       "{'Eren': {'Math': 85, 'Data Science': 80, 'Statistics': 84, 'English': 80},\n",
       " 'Armin': {'Math': 95, 'Data Science': 86, 'Statistics': 84, 'English': 82},\n",
       " 'Mikasa': {'Math': 86, 'Data Science': 81, 'Statistics': 85, 'English': 79},\n",
       " 'Levi': {'Math': 99, 'Data Science': 99, 'Statistics': 99, 'English': 99}}"
      ]
     },
     "execution_count": 11,
     "metadata": {},
     "output_type": "execute_result"
    }
   ],
   "source": [
    "add_student()\n",
    "student_details"
   ]
  },
  {
   "cell_type": "code",
   "execution_count": 12,
   "id": "33033fb1-c519-4d83-b6b3-0419e91332ad",
   "metadata": {},
   "outputs": [
    {
     "name": "stdin",
     "output_type": "stream",
     "text": [
      "Name:  Er\n"
     ]
    },
    {
     "name": "stdout",
     "output_type": "stream",
     "text": [
      "Please provide a valid student.\n"
     ]
    },
    {
     "name": "stdin",
     "output_type": "stream",
     "text": [
      "Name:  Eren\n",
      "Subject:  Ma\n"
     ]
    },
    {
     "name": "stdout",
     "output_type": "stream",
     "text": [
      "Choose a subject from Math, Data Science, Statistics, or English.\n"
     ]
    },
    {
     "name": "stdin",
     "output_type": "stream",
     "text": [
      "Subject:  math\n",
      "Updated Score=  t\n"
     ]
    },
    {
     "name": "stdout",
     "output_type": "stream",
     "text": [
      "Please enter an integer between 0 and 100.\n"
     ]
    },
    {
     "name": "stdin",
     "output_type": "stream",
     "text": [
      "Updated Score=  101\n"
     ]
    },
    {
     "name": "stdout",
     "output_type": "stream",
     "text": [
      "Please enter a number between 0 and 100.\n"
     ]
    },
    {
     "name": "stdin",
     "output_type": "stream",
     "text": [
      "Updated Score=  86\n"
     ]
    },
    {
     "data": {
      "text/plain": [
       "{'Eren': {'Math': 86, 'Data Science': 80, 'Statistics': 84, 'English': 80},\n",
       " 'Armin': {'Math': 95, 'Data Science': 86, 'Statistics': 84, 'English': 82},\n",
       " 'Mikasa': {'Math': 86, 'Data Science': 81, 'Statistics': 85, 'English': 79},\n",
       " 'Levi': {'Math': 99, 'Data Science': 99, 'Statistics': 99, 'English': 99}}"
      ]
     },
     "execution_count": 12,
     "metadata": {},
     "output_type": "execute_result"
    }
   ],
   "source": [
    "update_number()\n",
    "student_details"
   ]
  },
  {
   "cell_type": "code",
   "execution_count": 13,
   "id": "786f3569-a459-48cf-b2bc-82810a283772",
   "metadata": {},
   "outputs": [
    {
     "name": "stdin",
     "output_type": "stream",
     "text": [
      "Name: Er\n"
     ]
    },
    {
     "name": "stdout",
     "output_type": "stream",
     "text": [
      "Please provide a valid student name\n"
     ]
    },
    {
     "name": "stdin",
     "output_type": "stream",
     "text": [
      "Name: Eren\n"
     ]
    },
    {
     "name": "stdout",
     "output_type": "stream",
     "text": [
      "Average marks of Eren is 82.5\n"
     ]
    }
   ],
   "source": [
    "average_number()"
   ]
  },
  {
   "cell_type": "code",
   "execution_count": 14,
   "id": "60e13022-2c3a-43fc-9df5-48f1d9ed1ab3",
   "metadata": {},
   "outputs": [
    {
     "name": "stdin",
     "output_type": "stream",
     "text": [
      "Name: Er\n"
     ]
    },
    {
     "name": "stdout",
     "output_type": "stream",
     "text": [
      "Please provide a valid student name\n"
     ]
    },
    {
     "name": "stdin",
     "output_type": "stream",
     "text": [
      "Name: Eren\n"
     ]
    },
    {
     "name": "stdout",
     "output_type": "stream",
     "text": [
      "Highest marks of Eren is 86 and the highest scoring subject is Math\n"
     ]
    }
   ],
   "source": [
    "highest_number()"
   ]
  },
  {
   "cell_type": "code",
   "execution_count": 15,
   "id": "48564ffa-463d-47bd-ad1f-3b20da874ee9",
   "metadata": {},
   "outputs": [
    {
     "name": "stdin",
     "output_type": "stream",
     "text": [
      "Name: Er\n"
     ]
    },
    {
     "name": "stdout",
     "output_type": "stream",
     "text": [
      "Please provide a valid student name\n"
     ]
    },
    {
     "name": "stdin",
     "output_type": "stream",
     "text": [
      "Name: Eren\n"
     ]
    },
    {
     "name": "stdout",
     "output_type": "stream",
     "text": [
      "Lowest marks of Eren is 80 and the lowest scoring subject is Data Science\n",
      "Lowest marks of Eren is 80 and the lowest scoring subject is English\n"
     ]
    }
   ],
   "source": [
    "lowest_number()"
   ]
  },
  {
   "cell_type": "code",
   "execution_count": 16,
   "id": "a03218c4-d0ef-463c-8242-961187e17ec1",
   "metadata": {},
   "outputs": [
    {
     "name": "stdin",
     "output_type": "stream",
     "text": [
      "Name: Ar\n"
     ]
    },
    {
     "name": "stdout",
     "output_type": "stream",
     "text": [
      "Please provide a valid student name\n"
     ]
    },
    {
     "name": "stdin",
     "output_type": "stream",
     "text": [
      "Name: Armin\n"
     ]
    },
    {
     "name": "stdout",
     "output_type": "stream",
     "text": [
      "Average marks of Armin is 86.75\n",
      "Highest marks of Armin is 95 and the highest scoring subject is Math\n",
      "Lowest marks of Armin is 82 and the lowest scoring subject is English\n"
     ]
    }
   ],
   "source": [
    "student_statistics()"
   ]
  },
  {
   "cell_type": "code",
   "execution_count": 17,
   "id": "4468a7c3-3d11-4c2c-84d4-244a0fe24ab0",
   "metadata": {},
   "outputs": [
    {
     "name": "stdin",
     "output_type": "stream",
     "text": [
      "Name: Er\n"
     ]
    },
    {
     "name": "stdout",
     "output_type": "stream",
     "text": [
      "Please provide a valid student name\n"
     ]
    },
    {
     "name": "stdin",
     "output_type": "stream",
     "text": [
      "Name: Eren\n"
     ]
    }
   ],
   "source": [
    "remove_student()"
   ]
  },
  {
   "cell_type": "code",
   "execution_count": 18,
   "id": "b2c49cd3-6668-4e66-aa13-64e461dead69",
   "metadata": {},
   "outputs": [
    {
     "data": {
      "text/plain": [
       "{'Armin': {'Math': 95, 'Data Science': 86, 'Statistics': 84, 'English': 82},\n",
       " 'Mikasa': {'Math': 86, 'Data Science': 81, 'Statistics': 85, 'English': 79},\n",
       " 'Levi': {'Math': 99, 'Data Science': 99, 'Statistics': 99, 'English': 99}}"
      ]
     },
     "execution_count": 18,
     "metadata": {},
     "output_type": "execute_result"
    }
   ],
   "source": [
    "student_details"
   ]
  },
  {
   "cell_type": "code",
   "execution_count": null,
   "id": "234f1929-3eb5-4623-a880-fd99ba351ecc",
   "metadata": {},
   "outputs": [],
   "source": []
  }
 ],
 "metadata": {
  "kernelspec": {
   "display_name": "Python 3 (ipykernel)",
   "language": "python",
   "name": "python3"
  },
  "language_info": {
   "codemirror_mode": {
    "name": "ipython",
    "version": 3
   },
   "file_extension": ".py",
   "mimetype": "text/x-python",
   "name": "python",
   "nbconvert_exporter": "python",
   "pygments_lexer": "ipython3",
   "version": "3.12.4"
  }
 },
 "nbformat": 4,
 "nbformat_minor": 5
}
